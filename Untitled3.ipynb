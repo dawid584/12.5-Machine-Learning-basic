{
  "nbformat": 4,
  "nbformat_minor": 0,
  "metadata": {
    "colab": {
      "provenance": [],
      "authorship_tag": "ABX9TyMUxttYvPnBMynakFwqc/9B",
      "include_colab_link": true
    },
    "kernelspec": {
      "name": "python3",
      "display_name": "Python 3"
    },
    "language_info": {
      "name": "python"
    }
  },
  "cells": [
    {
      "cell_type": "markdown",
      "metadata": {
        "id": "view-in-github",
        "colab_type": "text"
      },
      "source": [
        "<a href=\"https://colab.research.google.com/github/dawid584/learning-git/blob/master/Untitled3.ipynb\" target=\"_parent\"><img src=\"https://colab.research.google.com/assets/colab-badge.svg\" alt=\"Open In Colab\"/></a>"
      ]
    },
    {
      "cell_type": "code",
      "execution_count": null,
      "metadata": {
        "id": "nxmRvTKy__2Q"
      },
      "outputs": [],
      "source": [
        "from sklearn.datasets import load_digits\n",
        "from sklearn.datasets import load_wine\n",
        "from sklearn.linear_model import LogisticRegression\n",
        "from sklearn.model_selection import train_test_split\n",
        "from sklearn.datasets import fetch_openml\n",
        "from sklearn.tree import DecisionTreeClassifier # drzewo decyzyjne -> tree\n",
        "import plotly as plt\n",
        "import numpy as np\n",
        "import matplotlib.pyplot as plt\n",
        "import seaborn as sns\n",
        "clf = LogisticRegression()\n",
        "digits = load_digits()\n",
        "data = load_wine()"
      ]
    },
    {
      "cell_type": "code",
      "source": [
        "X, y = digits['data'], digits['target']"
      ],
      "metadata": {
        "id": "W6hWW-S7VCrW"
      },
      "execution_count": null,
      "outputs": []
    },
    {
      "cell_type": "code",
      "source": [
        "X_train_digits, X_test_digits, y_train_digits, y_test_digits = train_test_split(X , y , test_size=0.33, random_state=42)"
      ],
      "metadata": {
        "id": "tREC8bdDEvn5"
      },
      "execution_count": null,
      "outputs": []
    },
    {
      "cell_type": "code",
      "source": [
        "A, b = data['data'], data['target']"
      ],
      "metadata": {
        "id": "t_HIHAesfo3L"
      },
      "execution_count": null,
      "outputs": []
    },
    {
      "cell_type": "code",
      "source": [
        "X_train_wine, X_test_wine, y_train_wine, y_test_wine = train_test_split(A , b , test_size=0.33, random_state=42)"
      ],
      "metadata": {
        "id": "9EzutDO3fcyN"
      },
      "execution_count": null,
      "outputs": []
    },
    {
      "cell_type": "code",
      "source": [
        "clf = DecisionTreeClassifier()\n",
        "clf_2 = DecisionTreeClassifier()\n",
        "\n",
        "print(\"fitting - training...\")\n",
        "clf.fit(X_train_digits, y_train_digits)\n",
        "\n",
        "print(\"training on whole dataset...\")\n",
        "clf_2.fit(X, y)\n",
        "\n",
        "print(\"predicting...\")\n",
        "y_pred = clf.predict(X_test_digits)\n",
        "\n",
        "# wpisujemy wartości dla pierwszych 10 predykcji\n",
        "\n",
        "print(\"true values \", y[:10])\n",
        "print(\"predicted   \", y_pred[:10])\n",
        "\n",
        "print(\"scoring...\")\n",
        "\n",
        "clf_score = clf.score(X_train_digits, y_train_digits)\n",
        "print(\"Train score = \", clf_score)\n",
        "clf_score_2 = clf.score(X_test_digits, y_test_digits)\n",
        "print(\"Test score = \", clf_score_2)\n",
        "\n",
        "clf_score_3 = clf_2.score(X, y)\n",
        "print(\"whole set score = \", clf_score_3)"
      ],
      "metadata": {
        "colab": {
          "base_uri": "https://localhost:8080/"
        },
        "id": "oib-bPx1o8VK",
        "outputId": "b74add10-a9c6-4bb2-ddf2-a19cc8fa9cb9"
      },
      "execution_count": null,
      "outputs": [
        {
          "output_type": "stream",
          "name": "stdout",
          "text": [
            "fitting - training...\n",
            "training on whole dataset...\n",
            "predicting...\n",
            "true values  [0 1 2 3 4 5 6 7 8 9]\n",
            "predicted    [6 9 3 7 2 2 5 3 5 2]\n",
            "scoring...\n",
            "Train score =  1.0\n",
            "Test score =  0.8400673400673401\n",
            "whole set score =  1.0\n"
          ]
        }
      ]
    },
    {
      "cell_type": "code",
      "source": [
        "plt.plot(y[:10], label=\"Train score\")\n",
        "plt.plot(y_pred[:10], label=\"Test score\")\n",
        "plt.xlabel(\"x\")\n",
        "plt.ylabel(\"y\")\n",
        "plt.legend(loc=\"right\")\n",
        "plt.show()"
      ],
      "metadata": {
        "colab": {
          "base_uri": "https://localhost:8080/",
          "height": 279
        },
        "id": "CwvB0BXM4l7m",
        "outputId": "e7f433cd-cddf-46b5-90d2-e4e12a9fb039"
      },
      "execution_count": null,
      "outputs": [
        {
          "output_type": "display_data",
          "data": {
            "text/plain": [
              "<Figure size 432x288 with 1 Axes>"
            ],
            "image/png": "[encoded data removed]"
          },
          "metadata": {
            "needs_background": "light"
          }
        }
      ]
    },
    {
      "cell_type": "markdown",
      "source": [
        "Model pokazuje Overfitting\n",
        "\n",
        "Widać, iż w przypadku klasyfikatora DecissionTreeClassifier mamy do czynienia z overfittingiem. Dla danych treningowych mamy metrykę równą 1.0! Z kolei dla danych testowych mamy metrykę wyraźnie mniejszą."
      ],
      "metadata": {
        "id": "ZjFXdcJgEMCe"
      }
    },
    {
      "cell_type": "code",
      "source": [
        "clf = DecisionTreeClassifier()\n",
        "clf_2 = DecisionTreeClassifier()\n",
        "\n",
        "print(\"fitting - training...\")\n",
        "clf.fit(X_train_wine, y_train_wine)\n",
        "\n",
        "print(\"training on whole dataset...\")\n",
        "clf_2.fit(A, b)\n",
        "\n",
        "print(\"predicting...\")\n",
        "b_pred = clf.predict(X_test_wine)\n",
        "\n",
        "# wpisujemy wartości dla pierwszych 10 predykcji\n",
        "\n",
        "print(\"true values \", b[:10])\n",
        "print(\"predicted   \", b_pred[:10])\n",
        "\n",
        "print(\"scoring...\")\n",
        "\n",
        "clf_score = clf.score(X_train_wine, y_train_wine)\n",
        "print(\"Train score = \", clf_score)\n",
        "clf_score = clf.score(X_test_wine, y_test_wine)\n",
        "print(\"Test score = \", clf_score)\n",
        "\n",
        "clf_score = clf_2.score(A, b)\n",
        "print(\"whole set score = \", clf_score)"
      ],
      "metadata": {
        "colab": {
          "base_uri": "https://localhost:8080/"
        },
        "id": "PYuwV9R1sZzQ",
        "outputId": "c83a0179-ce48-41bd-a1fc-7698bad56acf"
      },
      "execution_count": null,
      "outputs": [
        {
          "output_type": "stream",
          "name": "stdout",
          "text": [
            "fitting - training...\n",
            "training on whole dataset...\n",
            "predicting...\n",
            "true values  [0 0 0 0 0 0 0 0 0 0]\n",
            "predicted    [0 0 2 0 1 0 1 2 1 2]\n",
            "scoring...\n",
            "Train score =  1.0\n",
            "Test score =  0.9661016949152542\n",
            "whole set score =  1.0\n"
          ]
        }
      ]
    },
    {
      "cell_type": "markdown",
      "source": [
        "Model pokazuje Overfitting\n",
        "\n",
        "Widać, iż w przypadku klasyfikatora DecissionTreeClassifier mamy do czynienia z overfittingiem. Dla danych treningowych mamy metrykę równą 1.0! Z kolei dla danych testowych mamy metrykę wyraźnie mniejszą."
      ],
      "metadata": {
        "id": "1HN-6HMxIc8C"
      }
    },
    {
      "cell_type": "markdown",
      "source": [],
      "metadata": {
        "id": "FurytT2uuOI4"
      }
    },
    {
      "cell_type": "code",
      "source": [
        "plt.plot(b[:10], label=\"True values\")\n",
        "plt.plot(b_pred[:10], label=\"predicted\")\n",
        "plt.xlabel(\"x\")\n",
        "plt.ylabel(\"y\")\n",
        "plt.legend(loc=\"right\")\n",
        "plt.show()"
      ],
      "metadata": {
        "colab": {
          "base_uri": "https://localhost:8080/",
          "height": 279
        },
        "id": "KNB0jYxz4vVW",
        "outputId": "adf1a1e1-d83d-4bb3-e77d-0ec8428ab7eb"
      },
      "execution_count": null,
      "outputs": [
        {
          "output_type": "display_data",
          "data": {
            "text/plain": [
              "<Figure size 432x288 with 1 Axes>"
            ],
            "image/png": "[encoded data removed]"
          },
          "metadata": {
            "needs_background": "light"
          }
        }
      ]
    },
    {
      "cell_type": "markdown",
      "source": [
        "Model pokazuje overfitting"
      ],
      "metadata": {
        "id": "K75DZ-GuEXPT"
      }
    }
  ]
}